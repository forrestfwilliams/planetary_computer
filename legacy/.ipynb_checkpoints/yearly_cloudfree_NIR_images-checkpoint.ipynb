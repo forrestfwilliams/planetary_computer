{
 "cells": [
  {
   "cell_type": "markdown",
   "metadata": {},
   "source": [
    "# Sentinel 2 Cloudless Mosaic\n",
    "\n",
    "This tutorial constructs a *cloudless mosaic* (also known as a composite) from a time series of [Sentinel-2 Level-2A](https://planetarycomputer.microsoft.com/dataset/sentinel-2-l2a) images and is modified from the example notebook provided by Microsoft. This notebook performs the following steps:\n",
    "\n",
    "* Find a time series of images within a bounding box\n",
    "* Stack those images together into a single array\n",
    "* Mask clouds and cloud shadows\n",
    "* Synthesize a panchromatic band by averageing Red, Green, Blue and NIR bands\n",
    "* Compute the cloudless mosaic by taking a median\n",
    "* Save the result to a GeoTiff\n",
    "\n",
    "This notebook is designed for the processing of large areas, so tasks like plotting that are useful but resource-intensive are omitted"
   ]
  },
  {
   "cell_type": "markdown",
   "metadata": {},
   "source": [
    "## Setup"
   ]
  },
  {
   "cell_type": "code",
   "execution_count": 1,
   "metadata": {},
   "outputs": [],
   "source": [
    "%matplotlib inline\n",
    "import matplotlib.pyplot as plt\n",
    "\n",
    "import numpy as np\n",
    "import xarray as xr\n",
    "import pandas as pd\n",
    "\n",
    "import rasterio.features\n",
    "import rioxarray\n",
    "import stackstac\n",
    "import pystac_client\n",
    "import planetary_computer\n",
    "\n",
    "import pyproj\n",
    "from shapely.ops import transform\n",
    "from shapely.geometry import Polygon\n",
    "\n",
    "import xrspatial.multispectral as ms\n",
    "\n",
    "import dask\n",
    "from dask_gateway import GatewayCluster\n",
    "from dask import visualize\n",
    "\n",
    "import itertools\n",
    "from datetime import datetime\n",
    "from tqdm.notebook import tqdm"
   ]
  },
  {
   "cell_type": "markdown",
   "metadata": {},
   "source": [
    "## Create a Dask cluster\n",
    "\n",
    "We're going to process a large amount of data. To cut down on the execution time, we'll use a Dask cluster to do the computation in parallel, adaptively scaling to add and remove workers as needed. See [Scale With Dask](../quickstarts/scale-with-dask.ipynb) for more on using Dask."
   ]
  },
  {
   "cell_type": "code",
   "execution_count": 2,
   "metadata": {},
   "outputs": [
    {
     "name": "stdout",
     "output_type": "stream",
     "text": [
      "https://pccompute.westeurope.cloudapp.azure.com/compute/services/dask-gateway/clusters/prod.169622bd58fc4fe6ab503c2cbfdb2acb/status\n"
     ]
    }
   ],
   "source": [
    "cluster = GatewayCluster()  # Creates the Dask Scheduler. Might take a minute.\n",
    "\n",
    "client = cluster.get_client()\n",
    "\n",
    "cluster.adapt(minimum=4, maximum=32)\n",
    "print(cluster.dashboard_link)"
   ]
  },
  {
   "cell_type": "markdown",
   "metadata": {},
   "source": [
    "## Discover data\n",
    "\n",
    "In this step we define our bounding box by creating a Shapely Polygon object. The Polygon object is created from a set of coordinate pairs in **Latitude and Longitude** (epsg 3857). A simple way of getting the coordinate pairs is by creating a bounding box in Google Earth, saving it to a kml, then opening it as a text file and copying the coordinates.\n",
    "\n",
    "At this point, you'll have to decide if you want to process multiple years at once, or if you want to process the years separately. This decision comes down to how much compute power you have access to. For the Dask cluster parameters specified, `cluster.adapt(minimum=4, maximum=24)`, the maximum amount of images used should be less than 200. You can alter the number of images used by changing the values of `date_range`, `max_cloud`, and `pol`."
   ]
  },
  {
   "cell_type": "code",
   "execution_count": 3,
   "metadata": {},
   "outputs": [],
   "source": [
    "# date range\n",
    "# year = 2016\n",
    "# date_range = f\"{year}-01-01/{year+1}-01-01\"\n",
    "\n",
    "date_range = \"2016-01-01/2022-01-01\"\n",
    "\n",
    "# frame T60HUB or T60GUA\n",
    "frames = 'T60HUB'\n",
    "orbit = 'R129'\n",
    "# frame = 'R129'\n",
    "\n",
    "# max cloud coverage\n",
    "max_cloud = 25\n",
    "\n",
    "# possible bounding boxes\n",
    "poroa =[[175.9540924324072,-39.79467075565404],\n",
    "        [175.945114873355,-39.5925815994339],\n",
    "        [175.7466289836702,-39.59528350422168],\n",
    "        [175.7518945072953,-39.79792833072585],\n",
    "        [175.9540924324072,-39.79467075565404]]\n",
    "\n",
    "study_area = [[174.3195824446477,-39.31681541495579],\n",
    "              [174.2992147571175,-40.1298100050477],\n",
    "              [176.5561381739111,-40.14413275288879],\n",
    "              [176.5430092169263,-39.32607797703585],\n",
    "              [174.3195824446477,-39.31681541495579]] \n",
    "\n",
    "# create shapely polygon for desired area\n",
    "pol = Polygon(study_area)\n",
    "\n",
    "# get bounding box (minx, miny, maxx, maxy)\n",
    "bbox = pol.bounds"
   ]
  },
  {
   "cell_type": "markdown",
   "metadata": {},
   "source": [
    "Using `pystac_client` we can search the Planetary Computer's STAC endpoint for items matching our query parameters."
   ]
  },
  {
   "cell_type": "code",
   "execution_count": 4,
   "metadata": {},
   "outputs": [
    {
     "name": "stdout",
     "output_type": "stream",
     "text": [
      "Number of images is 1299\n"
     ]
    }
   ],
   "source": [
    "stac = pystac_client.Client.open(\"https://planetarycomputer.microsoft.com/api/stac/v1\")\n",
    "\n",
    "search = stac.search(\n",
    "    bbox=bbox,\n",
    "    datetime=date_range,\n",
    "    collections=[\"sentinel-2-l2a\"],\n",
    "    limit=500,  # fetch items in batches of 500\n",
    "    query={\"eo:cloud_cover\": {\"gte\":0,\"lte\": max_cloud}},\n",
    ")\n",
    "\n",
    "# Get items with the correct relative orbit\n",
    "items = list(search.get_items())"
   ]
  },
  {
   "cell_type": "markdown",
   "metadata": {},
   "source": [
    "Now we restrict the results to the same orbit"
   ]
  },
  {
   "cell_type": "code",
   "execution_count": 5,
   "metadata": {},
   "outputs": [
    {
     "name": "stdout",
     "output_type": "stream",
     "text": [
      "Number of images is 100\n"
     ]
    }
   ],
   "source": [
    "ids = np.array([x.id.split('_') for x in items])\n",
    "\n",
    "#get correct orbit\n",
    "ids = ids[ids[:,3] == orbit]\n",
    "\n",
    "#get correct frames\n",
    "ids = ids[np.isin(ids[:,4],frames)]\n",
    "\n",
    "#get dates\n",
    "dates = [set(ids[ids[:,4]==f,2]) for f in frames]\n",
    "valid_dates = list(dates[0].intersection(*dates))\n",
    "ids = ids[np.isin(ids[:,2],valid_dates)]\n",
    "\n",
    "valid_ids = ['_'.join(x) for x in ids]\n",
    "\n",
    "#subset items\n",
    "items = [x for x in items if any([y == x.id for y in valid_ids])]\n",
    "\n",
    "print(f'Number of images is {len(items)}')"
   ]
  },
  {
   "cell_type": "markdown",
   "metadata": {},
   "source": [
    "Depending on the year, this should return about 100-150 images for our study area over space, time, and cloudiness. Those items will still have *some* clouds over portions of the scenes, though. To create our cloudless mosaic, we'll load the data into an [xarray](https://xarray.pydata.org/en/stable/) DataArray using [stackstac](https://stackstac.readthedocs.io/) and then reduce the time-series of images down to a single image."
   ]
  },
  {
   "cell_type": "code",
   "execution_count": 6,
   "metadata": {},
   "outputs": [],
   "source": [
    "signed_items = []\n",
    "for item in items:\n",
    "    item.clear_links()\n",
    "    signed_items.append(planetary_computer.sign(item).to_dict())"
   ]
  },
  {
   "cell_type": "markdown",
   "metadata": {},
   "source": [
    "## Load Data"
   ]
  },
  {
   "cell_type": "markdown",
   "metadata": {},
   "source": [
    "In this step we load the data and perform some initial cleaing that includes:\n",
    "* subsetting to our exact bounding box\n",
    "* removing pixels that correspond clouds and clouds shadows\n",
    "\n",
    "To perform our cloud masking, we use Sentinel-2's Scene Classification Layer ([SCL](https://sentinels.copernicus.eu/web/sentinel/technical-guides/sentinel-2-msi/level-2a/algorithm)) and mask out values 3, 8, 9, and 10."
   ]
  },
  {
   "cell_type": "code",
   "execution_count": 7,
   "metadata": {},
   "outputs": [],
   "source": [
    "data = (\n",
    "    stackstac.stack(\n",
    "        signed_items,\n",
    "        assets=[\"B08\",\"SCL\"],\n",
    "        chunksize=4096,\n",
    "        resolution=10,\n",
    "        epsg=32760\n",
    "    )\n",
    "    .where(lambda x: x > 0, other=np.nan)  # sentinel-2 uses 0 as nodata\n",
    ")\n",
    "\n",
    "# Get bounding box in projection of data\n",
    "project = pyproj.Transformer.from_crs(pyproj.CRS('EPSG:4326'), pyproj.CRS(data.crs), always_xy=True).transform\n",
    "pol_utm = transform(project, pol)\n",
    "minx, miny, maxx, maxy = pol_utm.bounds\n",
    "\n",
    "# Subset data and mask clouds\n",
    "data = data.sel(x=slice(minx, maxx), y=slice(maxy,miny))\n",
    "\n",
    "# Merge neighboring images\n",
    "# data = data.groupby('time').mean()"
   ]
  },
  {
   "cell_type": "markdown",
   "metadata": {},
   "source": [
    "## Cloud filtering"
   ]
  },
  {
   "cell_type": "code",
   "execution_count": 8,
   "metadata": {},
   "outputs": [],
   "source": [
    "first = data.groupby('time').first(skipna=False)\n",
    "valid = xr.where(first.sel(band='SCL',drop=True).isin([3,8,9]),x=0,y=1)"
   ]
  },
  {
   "cell_type": "code",
   "execution_count": 9,
   "metadata": {},
   "outputs": [],
   "source": [
    "pct_valid = valid.sum(dim=['x','y']).compute().to_numpy() / (data.shape[2] * data.shape[3])\n",
    "pct_valid = pct_valid.squeeze()\n",
    "dates = valid.time.to_numpy()"
   ]
  },
  {
   "cell_type": "code",
   "execution_count": 10,
   "metadata": {},
   "outputs": [],
   "source": [
    "clouds = pd.DataFrame({'date':dates,'pct_valid':pct_valid[:]})\n",
    "clouds.to_csv('clouds.csv',index=False)"
   ]
  },
  {
   "cell_type": "code",
   "execution_count": 15,
   "metadata": {},
   "outputs": [],
   "source": [
    "clouds = pd.read_csv('clouds.csv',parse_dates=['date'])"
   ]
  },
  {
   "cell_type": "code",
   "execution_count": 16,
   "metadata": {},
   "outputs": [
    {
     "data": {
      "text/plain": [
       "<matplotlib.collections.PathCollection at 0x7f124865da90>"
      ]
     },
     "execution_count": 16,
     "metadata": {},
     "output_type": "execute_result"
    },
    {
     "data": {
      "image/png": "[encoded data removed]",
      "text/plain": [
       "<Figure size 432x288 with 1 Axes>"
      ]
     },
     "metadata": {
      "needs_background": "light"
     },
     "output_type": "display_data"
    }
   ],
   "source": [
    "plt.scatter(clouds.date,clouds.pct_valid)"
   ]
  },
  {
   "cell_type": "code",
   "execution_count": 17,
   "metadata": {},
   "outputs": [
    {
     "name": "stdout",
     "output_type": "stream",
     "text": [
      "(26, 2)\n"
     ]
    },
    {
     "data": {
      "text/plain": [
       "<matplotlib.collections.PathCollection at 0x7f11b5153f70>"
      ]
     },
     "execution_count": 17,
     "metadata": {},
     "output_type": "execute_result"
    },
    {
     "data": {
      "image/png": "[encoded data removed]",
      "text/plain": [
       "<Figure size 432x288 with 1 Axes>"
      ]
     },
     "metadata": {
      "needs_background": "light"
     },
     "output_type": "display_data"
    }
   ],
   "source": [
    "best = clouds.loc[clouds.pct_valid > 0.97].copy()\n",
    "print(best.shape)\n",
    "plt.scatter(best.date,best.pct_valid)"
   ]
  },
  {
   "cell_type": "markdown",
   "metadata": {},
   "source": [
    "## Summarizing"
   ]
  },
  {
   "cell_type": "code",
   "execution_count": 24,
   "metadata": {},
   "outputs": [],
   "source": [
    "merge_dates = data.sel(band=[\"B08\"]).squeeze().groupby('time').mean().sel(time=list(best.date)).squeeze()"
   ]
  },
  {
   "cell_type": "code",
   "execution_count": null,
   "metadata": {},
   "outputs": [],
   "source": [
    "median = merge_dates.groupby('time.year').median().fillna(0).persist()"
   ]
  },
  {
   "cell_type": "markdown",
   "metadata": {},
   "source": [
    "## Download Data"
   ]
  },
  {
   "cell_type": "code",
   "execution_count": 28,
   "metadata": {},
   "outputs": [],
   "source": [
    "median = median.rio.write_crs(pyproj.CRS(data.crs).to_string())\n",
    "median = median.rename('Panchromatic')"
   ]
  },
  {
   "cell_type": "code",
   "execution_count": 30,
   "metadata": {},
   "outputs": [
    {
     "name": "stdout",
     "output_type": "stream",
     "text": [
      "s2_l2_20160601.tif\n",
      "s2_l2_20170601.tif\n",
      "s2_l2_20180601.tif\n",
      "s2_l2_20190601.tif\n",
      "s2_l2_20200601.tif\n",
      "s2_l2_20210601.tif\n",
      "CPU times: user 9.59 s, sys: 11.6 s, total: 21.2 s\n",
      "Wall time: 26.3 s\n"
     ]
    }
   ],
   "source": [
    "%%time\n",
    "for y in median.year.to_numpy():\n",
    "    name = f's2_l2_{y}0601.tif'\n",
    "    print(name)\n",
    "    median.sel(year=y).rio.to_raster(name)"
   ]
  },
  {
   "cell_type": "markdown",
   "metadata": {},
   "source": [
    "## Close cluster\n",
    "Once we're done with our processing, let's be a good steward of our resources and close our cluster"
   ]
  },
  {
   "cell_type": "code",
   "execution_count": 31,
   "metadata": {},
   "outputs": [],
   "source": [
    "cluster.close()"
   ]
  },
  {
   "cell_type": "markdown",
   "metadata": {},
   "source": [
    "## Download Data\n",
    "And you're done! The completed GeoTiff files should be in the same directory as this notebook, and can be downloaded via Jupyter's GUI"
   ]
  },
  {
   "cell_type": "code",
   "execution_count": null,
   "metadata": {},
   "outputs": [],
   "source": []
  }
 ],
 "metadata": {
  "kernelspec": {
   "display_name": "Python 3 (ipykernel)",
   "language": "python",
   "name": "python3"
  },
  "language_info": {
   "codemirror_mode": {
    "name": "ipython",
    "version": 3
   },
   "file_extension": ".py",
   "mimetype": "text/x-python",
   "name": "python",
   "nbconvert_exporter": "python",
   "pygments_lexer": "ipython3",
   "version": "3.8.12"
  },
  "widgets": {
   "application/vnd.jupyter.widget-state+json": {
    "state": {
     "2ca0804b9f904dab815db80637a4f2d9": {
      "model_module": "@jupyter-widgets/base",
      "model_module_version": "1.2.0",
      "model_name": "LayoutModel",
      "state": {}
     },
     "e2f3ac516e3b4cf3a1ba1fc6aa0897ad": {
      "model_module": "@jupyter-widgets/controls",
      "model_module_version": "1.5.0",
      "model_name": "VBoxModel",
      "state": {
       "layout": "IPY_MODEL_2ca0804b9f904dab815db80637a4f2d9"
      }
     }
    },
    "version_major": 2,
    "version_minor": 0
   }
  }
 },
 "nbformat": 4,
 "nbformat_minor": 4
}
